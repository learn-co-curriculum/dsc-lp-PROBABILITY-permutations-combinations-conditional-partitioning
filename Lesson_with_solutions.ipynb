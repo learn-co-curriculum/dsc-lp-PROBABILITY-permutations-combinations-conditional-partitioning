{
 "cells": [
  {
   "cell_type": "markdown",
   "metadata": {},
   "source": [
    "## Section 17\n",
    "\n"
   ]
  },
  {
   "cell_type": "markdown",
   "metadata": {},
   "source": [
    "## What's the difference between a permutation and a combination?"
   ]
  },
  {
   "cell_type": "markdown",
   "metadata": {},
   "source": [
    "A: In a permutation, order matters (Really you're padlock should be called a permutation lock not a combination lock because the order that you put your 3-number code in matters!) For combinations, you only care about which items are members of the set. For example, if you were asking how many 3 topping pizzas you could make from a selection of 8 toppings, that would be a problem involving combinations."
   ]
  },
  {
   "cell_type": "markdown",
   "metadata": {},
   "source": [
    "## How many permutations are there for a standard padlock?\n",
    "> Hint: (there are 40 numbers on a padlock and use 3 numbers.)"
   ]
  },
  {
   "cell_type": "code",
   "execution_count": 1,
   "metadata": {},
   "outputs": [
    {
     "data": {
      "text/plain": [
       "64000"
      ]
     },
     "execution_count": 1,
     "metadata": {},
     "output_type": "execute_result"
    }
   ],
   "source": [
    "40**3"
   ]
  },
  {
   "cell_type": "markdown",
   "metadata": {},
   "source": [
    "For first number: 40 choices, for second number, still 40 choices ($40\\cdot40=40^2$). (Visualization: 40x40 square) Then for 3rd number: $40\\cdot40\\cdot=40^3$"
   ]
  },
  {
   "cell_type": "markdown",
   "metadata": {},
   "source": [
    "## How many unique 3 topping pizzas can you make from the following ingredients:\n",
    "    * Mushrooms\n",
    "    * Pepperoni\n",
    "    * Onion\n",
    "    * Peppers\n",
    "    * Ham\n",
    "    * Pineapple\n",
    "    * Sausage\n",
    "    * Olives\n",
    "    \n",
    "> Fun question: which is the worst?"
   ]
  },
  {
   "cell_type": "code",
   "execution_count": 2,
   "metadata": {},
   "outputs": [],
   "source": [
    "import itertools"
   ]
  },
  {
   "cell_type": "code",
   "execution_count": 4,
   "metadata": {},
   "outputs": [
    {
     "data": {
      "text/plain": [
       "56"
      ]
     },
     "execution_count": 4,
     "metadata": {},
     "output_type": "execute_result"
    }
   ],
   "source": [
    "toppings = [\"Mushrooms\",\"Pepperoni\",\"Onion\",\"Peppers\",\"Ham\",\"Pineapple\",\"Sausage\",\"Olives\"]\n",
    "three_topping_pizzas = list(itertools.combinations(toppings, 3))\n",
    "len(three_topping_pizzas)"
   ]
  },
  {
   "cell_type": "markdown",
   "metadata": {},
   "source": [
    "## Intuition Behind Combinations\n",
    "\n",
    "* First ask the general question, if anyone can explain \n",
    "8 choices for first topping * 7 remaining choices for second topping * 6 choices for 3rd topping / repeats\n",
    "\n",
    "For Example:\n",
    "\n",
    "Mushrooms, Pepperoni, Onion is the same as  Pepperoni, Mushrooms, Onion and Onion, Mushrooms, Pepperoni.\n",
    "\n",
    "Essentially, we need to divide by how many different arrangements could be made with the three toppings (you can use another factorial to calculate that). [Pose this as a question for students.]   \n",
    "\n",
    "A: $3!=3\\cdot2\\cdot1=6$\n",
    "\n",
    "Now, building from this intuition, we can derive the general formula for combinations:\n",
    "\n",
    "8 choices for first topping * 7 remaining choices for second topping * 6 choices for 3rd topping / repeats\n",
    "\n",
    "Abstracting to a formula, we have:\n",
    "\n",
    "$\\frac{8!}{5!\\cdot number\\_of\\_repeats}$\n",
    "\n",
    "Even more abstractly, in general:\n",
    "n items chosen r at a time\n",
    "\n",
    "$\\frac{n!}{(n-r)!\\cdot number\\_of\\_repeats}$\n",
    "\n",
    "Number of repeats is simply r!, so all together we have:\n",
    "\n",
    "$\\frac{n!}{r!(n-r)!}$"
   ]
  },
  {
   "cell_type": "code",
   "execution_count": null,
   "metadata": {},
   "outputs": [],
   "source": []
  }
 ],
 "metadata": {
  "kernelspec": {
   "display_name": "Python 3",
   "language": "python",
   "name": "python3"
  },
  "language_info": {
   "codemirror_mode": {
    "name": "ipython",
    "version": 3
   },
   "file_extension": ".py",
   "mimetype": "text/x-python",
   "name": "python",
   "nbconvert_exporter": "python",
   "pygments_lexer": "ipython3",
   "version": "3.6.5"
  }
 },
 "nbformat": 4,
 "nbformat_minor": 2
}
